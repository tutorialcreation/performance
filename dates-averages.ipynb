{
 "cells": [
  {
   "cell_type": "code",
   "execution_count": 1,
   "metadata": {},
   "outputs": [],
   "source": [
    "import os, sys\n",
    "os.environ.setdefault(\"DJANGO_SETTINGS_MODULE\", \"setup.settings\")\n",
    "import django\n",
    "django.setup()\n",
    "import pandas as pd\n",
    "import numpy as np\n",
    "\n",
    "from taskmanager.models import SubTask\n",
    "from django.contrib.auth.models import User\n",
    "from asgiref.sync import sync_to_async\n",
    "from datetime import datetime\n",
    "from datetime import date\n",
    "from dateutil.relativedelta import relativedelta\n"
   ]
  },
  {
   "cell_type": "code",
   "execution_count": 3,
   "metadata": {},
   "outputs": [],
   "source": [
    "martin=User.objects.get(username='martin')"
   ]
  },
  {
   "cell_type": "code",
   "execution_count": null,
   "metadata": {},
   "outputs": [],
   "source": [
    "martin"
   ]
  },
  {
   "cell_type": "code",
   "execution_count": null,
   "metadata": {},
   "outputs": [],
   "source": [
    "today=datetime.today() \n",
    "next_week=today+relativedelta(days=7)\n",
    "last_week=today-relativedelta(days=7)\n",
    "next_month=today+relativedelta(days=30)\n",
    "last_month=today-relativedelta(days=30)\n",
    "member_subtasks=SubTask.objects.filter(Q(member_assigned=martin) \n",
    "& Q(task_due_date__lte=last_month)).order_by('task_due_date')"
   ]
  },
  {
   "cell_type": "code",
   "execution_count": null,
   "metadata": {},
   "outputs": [],
   "source": [
    "member_subtasks"
   ]
  },
  {
   "cell_type": "code",
   "execution_count": null,
   "metadata": {},
   "outputs": [],
   "source": [
    "opsd_daily=pd.read_csv(\"open_data.csv\")"
   ]
  },
  {
   "cell_type": "code",
   "execution_count": null,
   "metadata": {},
   "outputs": [],
   "source": [
    "opsd_daily.shape"
   ]
  },
  {
   "cell_type": "code",
   "execution_count": null,
   "metadata": {},
   "outputs": [],
   "source": [
    "opsd_daily = opsd_daily.set_index('Date')"
   ]
  },
  {
   "cell_type": "code",
   "execution_count": null,
   "metadata": {},
   "outputs": [],
   "source": [
    "df=pd.read_csv(\"open_data.csv\")\n",
    "df.columns\n",
    "# df = df.set_index('Date')"
   ]
  },
  {
   "cell_type": "code",
   "execution_count": null,
   "metadata": {},
   "outputs": [],
   "source": [
    "df.index"
   ]
  },
  {
   "cell_type": "code",
   "execution_count": null,
   "metadata": {},
   "outputs": [],
   "source": [
    "df['Year']=df.index.month"
   ]
  },
  {
   "cell_type": "code",
   "execution_count": null,
   "metadata": {},
   "outputs": [],
   "source": [
    "dates=df['Date'].apply(lambda x: datetime.strptime(x,\"%Y-%m-%d\"))"
   ]
  },
  {
   "cell_type": "code",
   "execution_count": null,
   "metadata": {},
   "outputs": [],
   "source": [
    "type(dates[4338])"
   ]
  },
  {
   "cell_type": "code",
   "execution_count": null,
   "metadata": {},
   "outputs": [],
   "source": [
    "dates[22]+relativedelta(days=7)"
   ]
  },
  {
   "cell_type": "code",
   "execution_count": null,
   "metadata": {},
   "outputs": [],
   "source": [
    "weeks = [g for n, g in df.set_index('Date').groupby(pd.Grouper(key = 'datetime_column', freq = 'W'))]\n",
    "months = [g for n, g in df.set_index('Date').groupby(pd.Grouper(key = 'datetime_column', freq = 'M'))]"
   ]
  },
  {
   "cell_type": "code",
   "execution_count": null,
   "metadata": {},
   "outputs": [],
   "source": [
    "weeks = [g for n, g in df.groupby(pd.Grouper(key='Date',freq='W'))]\n",
    "months = [g for n, g in df.groupby(pd.Grouper(key='Date',freq='M'))]"
   ]
  },
  {
   "cell_type": "code",
   "execution_count": null,
   "metadata": {},
   "outputs": [],
   "source": [
    "df = pd.DataFrame(\n",
    "    {\n",
    "        \"Animal\": [\"Falcon\", \"Parrot\", \"Falcon\", \"Falcon\", \"Parrot\"],\n",
    "        \"Speed\": [100, 5, 200, 300, 15],\n",
    "    }\n",
    ")"
   ]
  },
  {
   "cell_type": "code",
   "execution_count": null,
   "metadata": {},
   "outputs": [],
   "source": [
    "df"
   ]
  },
  {
   "cell_type": "code",
   "execution_count": null,
   "metadata": {},
   "outputs": [],
   "source": [
    "df.groupby(pd.Grouper(key=\"Animal\")).mean()"
   ]
  },
  {
   "cell_type": "code",
   "execution_count": null,
   "metadata": {},
   "outputs": [],
   "source": [
    "df=pd.DataFrame(\n",
    "    {\n",
    "        \"Publish date\":[\n",
    "            pd.Timestamp(\"2020-01-02\"),\n",
    "            pd.Timestamp(\"2020-01-02\"),\n",
    "            pd.Timestamp(\"2020-01-09\"),\n",
    "            pd.Timestamp(\"2020-01-16\")\n",
    "        ],\n",
    "        \"ID\":[0,1,2,3],\n",
    "        \"Price\":[10,20,30,40]\n",
    "    }\n",
    ")"
   ]
  },
  {
   "cell_type": "code",
   "execution_count": null,
   "metadata": {},
   "outputs": [],
   "source": [
    "df.groupby(pd.Grouper(key=\"Publish date\",freq=\"3M\")).mean()"
   ]
  },
  {
   "cell_type": "code",
   "execution_count": null,
   "metadata": {},
   "outputs": [],
   "source": [
    "df.groupby(pd.Grouper(key=\"Publish date\",freq=\"W\")).mean()"
   ]
  },
  {
   "cell_type": "code",
   "execution_count": null,
   "metadata": {},
   "outputs": [],
   "source": [
    "(10+20+30+40)/4"
   ]
  },
  {
   "cell_type": "code",
   "execution_count": null,
   "metadata": {},
   "outputs": [],
   "source": [
    "start,end='2020-01-01 23:30:00','2020-12-31 00:30:00'\n",
    "rng=pd.date_range(start,end,freq='W').to_pydatetime()\n",
    "ts=pd.Series(np.arange(len(rng))*3,index=rng)\n",
    "rng\n",
    "ts"
   ]
  },
  {
   "cell_type": "code",
   "execution_count": null,
   "metadata": {},
   "outputs": [],
   "source": [
    "ts.groupby(pd.Grouper(freq='M')).mean().to_dict()"
   ]
  },
  {
   "cell_type": "code",
   "execution_count": null,
   "metadata": {},
   "outputs": [],
   "source": [
    "ts.groupby(pd.Grouper(freq='M',origin='epoch')).mean()"
   ]
  },
  {
   "cell_type": "code",
   "execution_count": 32,
   "metadata": {},
   "outputs": [],
   "source": [
    "df=pd.DataFrame(SubTask.objects.all().values(\"name\",\"task_due_date\"))"
   ]
  },
  {
   "cell_type": "code",
   "execution_count": 33,
   "metadata": {},
   "outputs": [],
   "source": [
    "from datetime import date"
   ]
  },
  {
   "cell_type": "code",
   "execution_count": 73,
   "metadata": {},
   "outputs": [],
   "source": [
    "start,end='2020-06-01','2020-09-30'\n",
    "date_ranges=pd.date_range(datetime.strptime(start,\"%Y-%m-%d\").date(),datetime.strptime(end,\"%Y-%m-%d\").date(),freq='W')\n",
    "date_ranges=set(date_ranges.tolist())\n",
    "subtasks=SubTask.objects.filter(Q(member_assigned=martin) \n",
    "    & Q(task_due_date__in=date_ranges)).order_by('task_due_date')"
   ]
  },
  {
   "cell_type": "code",
   "execution_count": 74,
   "metadata": {},
   "outputs": [
    {
     "data": {
      "text/plain": [
       "{Timestamp('2020-06-07 00:00:00', freq='W-SUN'),\n",
       " Timestamp('2020-06-14 00:00:00', freq='W-SUN'),\n",
       " Timestamp('2020-06-21 00:00:00', freq='W-SUN'),\n",
       " Timestamp('2020-06-28 00:00:00', freq='W-SUN'),\n",
       " Timestamp('2020-07-05 00:00:00', freq='W-SUN'),\n",
       " Timestamp('2020-07-12 00:00:00', freq='W-SUN'),\n",
       " Timestamp('2020-07-19 00:00:00', freq='W-SUN'),\n",
       " Timestamp('2020-07-26 00:00:00', freq='W-SUN'),\n",
       " Timestamp('2020-08-02 00:00:00', freq='W-SUN'),\n",
       " Timestamp('2020-08-09 00:00:00', freq='W-SUN'),\n",
       " Timestamp('2020-08-16 00:00:00', freq='W-SUN'),\n",
       " Timestamp('2020-08-23 00:00:00', freq='W-SUN'),\n",
       " Timestamp('2020-08-30 00:00:00', freq='W-SUN'),\n",
       " Timestamp('2020-09-06 00:00:00', freq='W-SUN'),\n",
       " Timestamp('2020-09-13 00:00:00', freq='W-SUN'),\n",
       " Timestamp('2020-09-20 00:00:00', freq='W-SUN'),\n",
       " Timestamp('2020-09-27 00:00:00', freq='W-SUN')}"
      ]
     },
     "execution_count": 74,
     "metadata": {},
     "output_type": "execute_result"
    }
   ],
   "source": [
    "date_ranges"
   ]
  },
  {
   "cell_type": "code",
   "execution_count": 72,
   "metadata": {},
   "outputs": [
    {
     "data": {
      "text/plain": [
       "[{'Due Date': datetime.date(2020, 7, 9), 'Deadline Score': 4.0},\n",
       " {'Due Date': datetime.date(2020, 7, 14),\n",
       "  'Deadline Score': 3.6666666666666665},\n",
       " {'Due Date': datetime.date(2020, 7, 23), 'Deadline Score': 4.0},\n",
       " {'Due Date': datetime.date(2020, 7, 30), 'Deadline Score': 3.5},\n",
       " {'Due Date': datetime.date(2020, 7, 31), 'Deadline Score': 4.0},\n",
       " {'Due Date': datetime.date(2020, 8, 27), 'Deadline Score': 2.0},\n",
       " {'Due Date': datetime.date(2020, 9, 1), 'Deadline Score': 4.0}]"
      ]
     },
     "execution_count": 72,
     "metadata": {},
     "output_type": "execute_result"
    }
   ],
   "source": [
    "df = pd.DataFrame({\n",
    "    'Due Date': [subtask.task_due_date for subtask in subtasks],\n",
    "    'Deadline Score': [subtask.rating for subtask in subtasks]\n",
    "})\n",
    "df=df.groupby(['Due Date'],as_index=False).mean()\n",
    "# df.set_index('Due Date').groupby(pd.Grouper(freq='D')).mean()\n",
    "\n",
    "df=df.dropna()\n",
    "results=df.to_dict('records')\n",
    "results"
   ]
  },
  {
   "cell_type": "code",
   "execution_count": 62,
   "metadata": {},
   "outputs": [
    {
     "data": {
      "text/plain": [
       "[{'Due Date': datetime.date(2020, 7, 9), 'Deadline Score': 4.0},\n",
       " {'Due Date': datetime.date(2020, 7, 14), 'Deadline Score': 4.0},\n",
       " {'Due Date': datetime.date(2020, 7, 14), 'Deadline Score': 4.0},\n",
       " {'Due Date': datetime.date(2020, 7, 14), 'Deadline Score': 3.0},\n",
       " {'Due Date': datetime.date(2020, 7, 23), 'Deadline Score': 4.0},\n",
       " {'Due Date': datetime.date(2020, 7, 23), 'Deadline Score': 4.0},\n",
       " {'Due Date': datetime.date(2020, 7, 30), 'Deadline Score': 3.0},\n",
       " {'Due Date': datetime.date(2020, 7, 30), 'Deadline Score': 4.0},\n",
       " {'Due Date': datetime.date(2020, 7, 31), 'Deadline Score': 5.0},\n",
       " {'Due Date': datetime.date(2020, 7, 31), 'Deadline Score': 3.0},\n",
       " {'Due Date': datetime.date(2020, 8, 27), 'Deadline Score': 2.0},\n",
       " {'Due Date': datetime.date(2020, 9, 1), 'Deadline Score': 4.0}]"
      ]
     },
     "execution_count": 62,
     "metadata": {},
     "output_type": "execute_result"
    }
   ],
   "source": [
    "results"
   ]
  },
  {
   "cell_type": "code",
   "execution_count": 8,
   "metadata": {},
   "outputs": [
    {
     "name": "stdout",
     "output_type": "stream",
     "text": [
      "['31 Jul 20'] [1.5]\n"
     ]
    }
   ],
   "source": [
    "dates=[results[date_]['Due Date'].strftime(\"%d %b %y\") for date_ in range(len(results))]\n",
    "deadlines=[results[deadline_]['Deadline Score'] for deadline_ in range(len(results))]\n",
    "print(dates,deadlines)"
   ]
  },
  {
   "cell_type": "code",
   "execution_count": null,
   "metadata": {},
   "outputs": [],
   "source": [
    "date_ranges"
   ]
  }
 ],
 "metadata": {
  "kernelspec": {
   "display_name": "Django Shell-Plus",
   "language": "python",
   "name": "django_extensions"
  },
  "language_info": {
   "codemirror_mode": {
    "name": "ipython",
    "version": 3
   },
   "file_extension": ".py",
   "mimetype": "text/x-python",
   "name": "python",
   "nbconvert_exporter": "python",
   "pygments_lexer": "ipython3",
   "version": "3.6.9"
  }
 },
 "nbformat": 4,
 "nbformat_minor": 4
}
